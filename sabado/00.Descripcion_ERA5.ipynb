{
 "cells": [
  {
   "cell_type": "markdown",
   "metadata": {},
   "source": [
    "# Datos de reanálisis"
   ]
  },
  {
   "cell_type": "markdown",
   "metadata": {},
   "source": [
    "Los datos de reanálisis proporcionan la imagen más completa posible actualmente del tiempo y el clima pasados.\n",
    "\n",
    "Son una combinación de observaciones con predicciones meteorológicas pasadas a corto plazo que se repiten con modelos modernos de predicción meteorológica. Son globalmente completos y coherentes en el tiempo y, a veces, se denominan \"mapas sin espacios\".\n",
    "\n",
    "Existen varias fuentes de datos de reanálisis disponibles (e.g., NCEP/NCAR, ERA5, ERA5-Land, etc). [Aquí](https://climatedataguide.ucar.edu/climate-data/atmospheric-reanalysis-overview-comparison-tables) podemos encontrar un resumen de los datos de reanálisis disponibles. \n",
    "\n",
    "**¿Cómo se generan estos datos?**\n",
    "\n",
    "El reanálisis combina predicciones meteorológicas pasadas a corto plazo con observaciones a través de la asimilación de datos. El proceso imita la producción de pronósticos meteorológicos diarios, que utilizan un análisis del estado actual del sistema terrestre como punto de partida. El análisis es una combinación de observaciones físicamente coherentes con un pronóstico a corto plazo basado en el análisis anterior.\n",
    "\n",
    "<img src='./img/era5_reanalisis.jpg' width='700'>"
   ]
  },
  {
   "cell_type": "markdown",
   "metadata": {},
   "source": [
    "## Reanálisis **ERA5**"
   ]
  },
  {
   "cell_type": "markdown",
   "metadata": {},
   "source": [
    "ERA5 es el quinto reanálisis atmosférico importante producido por ECMWF, después del reanálisis del FGGE, ERA-15, ERA-40 y ERA-Interim. El conjunto de datos ERA5 proporciona datos horarios sobre parámetros de superficie y altitud con una resolución global de aproximadamente 31 km en 137 niveles que alcanzan hasta 1 Pa. También incluye los 10 miembros del sistema de asimilación de datos 4D-Var utilizado para producir el reanálisis, en resolución reducida (3 horas, 63 km). \n",
    "\n",
    "Actualmente, ERA5 están disponibles desde 1940, disponibles en [Climate Data Store](https://cds.climate.copernicus.eu/cdsapp#!/home). ERA5 reemplaza el reanálisis ERA-Interim.\n",
    "\n",
    "<img src='./img/er5_reanalisis_data.jpg' width='500'>"
   ]
  },
  {
   "cell_type": "markdown",
   "metadata": {},
   "source": [
    "## Ventajas de **ERA5**"
   ]
  },
  {
   "cell_type": "markdown",
   "metadata": {},
   "source": [
    "* Mayor resolución temporal y espacial. Esto es evidente en la representación de eventos climáticos extremos como el huracanes.\n",
    "\n",
    "* Disponible desde 1940 en adelante con actualizaciones diarias cercanas al tiempo real.\n",
    "\n",
    "* Una mejor representación de la circulación troposférica a lo largo del período de observación moderno a partir de 1979, como lo indica la evolución de la habilidad de pronóstico en la Figura 2 de [Bell et al., (2021)](https://doi.org/10.1002/qj.4174)."
   ]
  },
  {
   "cell_type": "markdown",
   "metadata": {},
   "source": [
    "Representación del huracán Florence (septiembre de 2018) en ERA5 (izquierda) y ERA-Interim (derecha).\n",
    "<img src='./img/Dee-F1.png' width='800'>"
   ]
  },
  {
   "cell_type": "markdown",
   "metadata": {},
   "source": [
    "Intervalo (días) en el que las correlaciones de anomalías medias de 365 días de los pronósticos de altura de 500 hPa a las 0000 y 1200 UTC de 1950 a 2020 alcanzan el 95 % (verde), el 80 % (naranja) y el 60 % (azul) para (a) Europa , (b) Asia Oriental, (c) América del Norte y (d) Australia/Nueva Zelanda. También se muestra (discontinua) la habilidad promedio de los pronósticos operativos del ECMWF para 1981. Las líneas gruesas indican ERA5; Las líneas finas indican ERA-Interim. El sombreado denota la diferencia entre ERA5 y ERA-Interim durante el período para el cual ambos están disponibles (1979-2019) (Adaptado de Bell et al (2021); contribución de H. Hersbach).\n",
    "\n",
    "\n",
    "<img src='./img/scores_era5_eraint_ext.png' width='650'>"
   ]
  },
  {
   "cell_type": "markdown",
   "metadata": {},
   "source": [
    "## Limitaciones de **ERA5**"
   ]
  },
  {
   "cell_type": "markdown",
   "metadata": {},
   "source": [
    "* Es posible que en el registro aparezcan tendencias y variabilidad no físicas debido a cambios en el sistema de observación; Este es un problema principalmente en la estratosfera superior y la mesosfera.\n",
    "\n",
    "* Varias variables, como por ejemplo los vientos cercanos a la superficie, muestran (pequeños) saltos sistemáticos a las 10 UTC y 22 UTC debido al diseño de las ventanas de asimilación de 12 horas a partir de las cuales se toma muestra de la evolución temporal del producto horario.\n",
    "\n",
    "* Algunos problemas con la temperatura de la superficie del mar (TSM) y la capa de hielo marino, como la presencia de huellas de barcos en la TSM antes de 2007, inconsistencias sobre los Grandes Lagos y el Caspio entre 2007 y 2014, falta de capa de hielo marino al norte de Groenlandia entre 1979 -1989.\n",
    "\n",
    "* Sesgo cálido de aproximadamente 5K en la temperatura de la superficie del hielo marino del Ártico durante el invierno.\n",
    "\n",
    "* Su resolución espacial dificulta la representación real de la topografía en regiones montañosas como los Andes. Esto limita la aplicación de estos datos directamente para estudios a nivel de subcuenca o microcuenca sin previa reescalacion."
   ]
  },
  {
   "cell_type": "markdown",
   "metadata": {},
   "source": [
    "Mapas de elevación de la superficie con las resoluciones de cuadrícula de (a) Reanálisis ERA5, (b) Análisis retrospectivo de la era moderna para investigación y aplicaciones, (c) Reanálisis del sistema de pronóstico climático, (d) Reanálisis europeo provisional, (e) Japonés 55- año de reanálisis, y (f) reanálisis de NCEP/NCAR versión 1. Las elevaciones de la cuadrícula se muestran para cada sitio (consulte los nombres de las ubicaciones en la Figura 1), seguidas de la diferencia de elevación entre lo observado y la cuadrícula (que se muestra entre paréntesis). Obtenido de [Birkel et al. (2022)](https://doi.org/10.1029/2021EA001934).\n",
    "\n",
    "<img src='./img/Screenshot at 2024-07-05 10-01-47.png' width='800'>"
   ]
  },
  {
   "cell_type": "markdown",
   "metadata": {},
   "source": [
    "## Comparación ERA5 con observaciones global"
   ]
  },
  {
   "cell_type": "markdown",
   "metadata": {},
   "source": [
    "**Temperatura superfical**"
   ]
  },
  {
   "cell_type": "markdown",
   "metadata": {},
   "source": [
    "Correlación entre la estación meteorológica multi ciudad o país y la temperatura media diaria (°C) de ERA5-Land en las 612 ubicaciones utilizadas en el estudio. Obtenido de [Mistry et al. (2022)](https://doi.org/10.1038/s41598-022-09049-4)\n",
    "\n",
    "\n",
    "<img src='./img/41598_2022_9049_Fig2_HTML.webp' width='800'>"
   ]
  },
  {
   "cell_type": "markdown",
   "metadata": {},
   "source": [
    "**Precipitación**"
   ]
  },
  {
   "cell_type": "markdown",
   "metadata": {},
   "source": [
    "La media de ERA5 menos las diferencias de precipitación observadas, o sesgos (mm·día-1), en las 5.637 estaciones en (a) enero, (b) abril, (c) julio y (d) octubre para 2001-2020. El sesgo promedio entre las 5.637 estaciones se muestra en el título de cada panel. Obtenido de [Lavers et al. (2022)](https://doi.org/10.1002/qj.4351).\n",
    "\n",
    "\n",
    "<img src='./img/Screenshot at 2024-07-05 10-12-30.png' width='800'>"
   ]
  },
  {
   "cell_type": "markdown",
   "metadata": {},
   "source": [
    "## Comparación ERA5 con observaciones para los Andes"
   ]
  },
  {
   "cell_type": "markdown",
   "metadata": {},
   "source": [
    "**Temperatura y Precipitacion diferentes reanálisis**"
   ]
  },
  {
   "cell_type": "markdown",
   "metadata": {},
   "source": [
    "Mapas climatológicos anuales de 1981 a 2010 para (a) temperatura de 2 m y (b) precipitación para cada reanálisis. Obtenido de [Birkel et al. (2022)](https://doi.org/10.1029/2021EA001934).\n",
    "\n",
    "<img src='./img/Screenshot at 2024-07-05 10-29-43.png' width='800'>"
   ]
  },
  {
   "cell_type": "markdown",
   "metadata": {},
   "source": [
    "Temperatura mensual de 2 m (a – d) y precipitación (e – h) de cada reanálisis para las celdas de la cuadrícula más cercanas a Quelccaya, Cusco, Chacaltaya y La Quiaca para el período 2014-2019. La línea negra gruesa representa las observaciones de la estación meteorológica. Las temperaturas de reanálisis se ajustan para tener en cuenta la cuadrícula frente a la elevación medida del sitio utilizando una tasa de caída adiabática de 4,4 °C/km. Obtenido de [Birkel et al. (2022)](https://doi.org/10.1029/2021EA001934).\n",
    "\n",
    "<img src='./img/ess21113-fig-0007-m.jpg' width='800'>"
   ]
  },
  {
   "cell_type": "markdown",
   "metadata": {},
   "source": [
    "**Comparación ERA5-Land para loas Andes Peruanos**"
   ]
  },
  {
   "cell_type": "markdown",
   "metadata": {},
   "source": [
    "ERA5-Land proporciona información horaria de alta resolución de las variables de la superficie. Los datos son una repetición del componente terrestre del reanálisis climático ERA5 con una resolución espacial más fina: ~9 km de espaciado de cuadrícula. ERA5-Land incluye información sobre las incertidumbres de todas las variables con resoluciones espaciales y temporales reducidas."
   ]
  },
  {
   "cell_type": "markdown",
   "metadata": {},
   "source": [
    "ERA5-Land datos de humedad del suelo terrestre. El gráfico muestra la humedad media del suelo para mayo de 2018 de ERA5-Land.\n",
    "\n",
    "<img src='./img/era5_t2m_201601.png' width='800'>"
   ]
  },
  {
   "cell_type": "markdown",
   "metadata": {},
   "source": [
    "Mapas de las cuatro áreas de estudio (Artesonraju - CB, Chuecon - CC, Cavalca - CV y Quelccay - ​​CO) con la ubicación del AWScomp (puntos azules) y los glaciares analizados (puntos amarillos). La cuadrícula ERA5L está superpuesta (cuadrícula gris) con las cuadrículas seleccionadas resaltadas (cuadrícula azul). Se destacan altitudes superiores a los 3000 msnm (gris oscuro) y glaciares (manchas rojas) del Inventario Nacional de Glaciares (INAIGEM 2018). Obtenido de [Bonshoms et al. (2022)](https://doi.org/10.1007/s11629-022-7388-4).\n",
    "\n",
    "<img src='./img/Screenshot at 2024-07-05 11-59-27.png' width='800'>"
   ]
  },
  {
   "cell_type": "markdown",
   "metadata": {},
   "source": [
    "**Temperatura superfical**"
   ]
  },
  {
   "cell_type": "markdown",
   "metadata": {},
   "source": [
    "Comparación entre la humedad relativa media mensual a 2 m de ERA5L (línea roja) y AWSmain (línea negra) en la Cordillera Blanca (CB), Cordillera Central (CC), Cordillera Vilcanota (CV) y Coropuna (CO) de 2017 a 2019. Valores medios mensuales ( columna A) y sesgos mensuales positivos (puntos rojos) y negativos (puntos azules) del ERA5L (columna B). Obtenido de [Bonshoms et al. (2022)](https://doi.org/10.1007/s11629-022-7388-4).\n",
    "\n",
    "<img src='./img/Screenshot at 2024-07-05 12-02-44.png' width='800'>"
   ]
  },
  {
   "cell_type": "markdown",
   "metadata": {},
   "source": [
    "**Humedad Relativa**"
   ]
  },
  {
   "cell_type": "markdown",
   "metadata": {},
   "source": [
    "Mapas de las cuatro áreas de estudio (Artesonraju - CB, Chuecon - CC, Cavalca - CV y Quelccay - ​​CO) con la ubicación del AWScomp (puntos azules) y los glaciares analizados (puntos amarillos). La cuadrícula ERA5L está superpuesta (cuadrícula gris) con las cuadrículas seleccionadas resaltadas (cuadrícula azul). Se destacan altitudes superiores a los 3000 msnm (gris oscuro) y glaciares (manchas rojas) del Inventario Nacional de Glaciares (INAIGEM 2018). Obtenido de [Bonshoms et al. (2022)](https://doi.org/10.1007/s11629-022-7388-4).\n",
    "\n",
    "\n",
    "<img src='./img/Screenshot at 2024-07-05 12-03-19.png' width='800'>"
   ]
  }
 ],
 "metadata": {
  "kernelspec": {
   "display_name": "Python 3.8.10 64-bit",
   "language": "python",
   "name": "python3"
  },
  "language_info": {
   "codemirror_mode": {
    "name": "ipython",
    "version": 3
   },
   "file_extension": ".py",
   "mimetype": "text/x-python",
   "name": "python",
   "nbconvert_exporter": "python",
   "pygments_lexer": "ipython3",
   "version": "3.9.13"
  },
  "orig_nbformat": 4,
  "vscode": {
   "interpreter": {
    "hash": "916dbcbb3f70747c44a77c7bcd40155683ae19c65e1c03b4aa3499c5328201f1"
   }
  }
 },
 "nbformat": 4,
 "nbformat_minor": 2
}
