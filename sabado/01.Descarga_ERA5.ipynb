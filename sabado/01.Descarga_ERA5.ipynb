{
 "cells": [
  {
   "cell_type": "markdown",
   "metadata": {},
   "source": [
    "## Registrarse en CDS\n",
    "\n",
    "Si aún no estás registrado en el CDS, entrá [aquí](https://cds.climate.copernicus.eu/cdsapp#!/home) para registrarte. Es importante hacer este paso para descargar datos desde CDS!!!"
   ]
  },
  {
   "cell_type": "markdown",
   "metadata": {},
   "source": [
    "## Descargar ERA5 a través de la API de CDS"
   ]
  },
  {
   "cell_type": "markdown",
   "metadata": {},
   "source": [
    "### Instalar `cdsapi`\n",
    "\n",
    "Si aún no tiene instalado el módulo `cdsapi`, instale usando el siguiente comando en **anaconda prompt**:\n",
    "\n",
    "``` python\n",
    "\n",
    "conda install -c conda-forge cdsapi \n",
    "\n",
    "```\n",
    "Luego configure tu computadora con tu usuario y clave proporcionados por el **CDS**.\n",
    "> Deberás crear un archivo **.cdsapirc** en tu home y copiar tu usuario y clave. Sigue los pasos [aquí](https://cds.climate.copernicus.eu/api-how-to) para hacer esto."
   ]
  },
  {
   "cell_type": "code",
   "execution_count": 1,
   "metadata": {},
   "outputs": [],
   "source": [
    "# para instalar directamente las librerias podemos utilizar el siguiente comando\n",
    "# cuidado, no olvide colocar --yes porque sino veras un mensaje de instalacion que no podras responder\n",
    "#!conda install -c conda-forge cdsapi\n",
    "\n",
    "#!conda install --yes -c conda-forge cdsapi"
   ]
  },
  {
   "cell_type": "code",
   "execution_count": 2,
   "metadata": {},
   "outputs": [
    {
     "name": "stdout",
     "output_type": "stream",
     "text": [
      "/home/christian/Documents/modulo5_ESAT_UNASAM/sabado\n"
     ]
    }
   ],
   "source": [
    "!pwd"
   ]
  },
  {
   "cell_type": "markdown",
   "metadata": {},
   "source": [
    "### Importar el modulo cdsapi"
   ]
  },
  {
   "cell_type": "code",
   "execution_count": 1,
   "metadata": {},
   "outputs": [
    {
     "name": "stderr",
     "output_type": "stream",
     "text": [
      "2024-07-05 18:53:10,727 INFO Welcome to the CDS\n",
      "2024-07-05 18:53:10,728 INFO Sending request to https://cds.climate.copernicus.eu/api/v2/resources/reanalysis-era5-single-levels\n",
      "2024-07-05 18:53:11,044 INFO Request is queued\n",
      "2024-07-05 18:56:06,032 INFO Request is completed\n",
      "2024-07-05 18:56:06,036 INFO Downloading https://download-0011-clone.copernicus-climate.eu/cache-compute-0011/cache/data4/adaptor.mars.internal-1720216543.2231588-6705-16-73ddff01-4e07-4323-b2e8-41498c681519.nc to ../data/ERA5_PE_2020.nc (171.2K)\n",
      "2024-07-05 18:56:08,930 INFO Download rate 59.3K/s \n"
     ]
    },
    {
     "data": {
      "text/plain": [
       "Result(content_length=175284,content_type=application/x-netcdf,location=https://download-0011-clone.copernicus-climate.eu/cache-compute-0011/cache/data4/adaptor.mars.internal-1720216543.2231588-6705-16-73ddff01-4e07-4323-b2e8-41498c681519.nc)"
      ]
     },
     "execution_count": 1,
     "metadata": {},
     "output_type": "execute_result"
    }
   ],
   "source": [
    "import cdsapi\n",
    "\n",
    "c = cdsapi.Client()\n",
    "\n",
    "c.retrieve(\n",
    "    'reanalysis-era5-single-levels',\n",
    "    {\n",
    "        'product_type': 'reanalysis',\n",
    "        'variable': ['10m_u_component_of_wind', '10m_v_component_of_wind', \n",
    "                     '2m_temperature'],\n",
    "        'year': '2020',\n",
    "        'month': '06',\n",
    "        'day': '01',\n",
    "        'time': ['00:00', '06:00', '12:00', '18:00',],\n",
    "        'area': [2, -85, -20, -65,],\n",
    "        'format': 'netcdf',\n",
    "    },    \n",
    "    '../data/ERA5_PE_2020.nc')"
   ]
  },
  {
   "cell_type": "code",
   "execution_count": null,
   "metadata": {},
   "outputs": [],
   "source": [
    "import numpy as np"
   ]
  },
  {
   "cell_type": "code",
   "execution_count": null,
   "metadata": {},
   "outputs": [],
   "source": [
    "years = np.arange(1960, 2021, 1)"
   ]
  },
  {
   "cell_type": "code",
   "execution_count": null,
   "metadata": {},
   "outputs": [],
   "source": [
    "#for i in years:\n",
    "#    c.retrieve(\n",
    "#        'reanalysis-era5-single-levels-monthly-means',\n",
    "#        {\n",
    "#            'format': 'netcdf',\n",
    "#            'product_type': 'monthly_averaged_reanalysis',\n",
    "#            'variable': ['geopotential', '10m_u_component_of_wind', '10m_v_component_of_wind',\n",
    "#            '2m_temperature', 'total_precipitation',\n",
    "#            ],\n",
    "#            'year': str(i),\n",
    "#            'month': [\n",
    "#                '01', '02', '03',\n",
    "#                '04', '05', '06',\n",
    "#                '07', '08', '09',\n",
    "#                '10', '11', '12',\n",
    "#            ],\n",
    "#            'time': '00:00',\n",
    "#            'area': [ 2, -85, -20, -65,],\n",
    "#        },\n",
    "#        f'../../data/era5_{str(i)}.nc')"
   ]
  }
 ],
 "metadata": {
  "kernelspec": {
   "display_name": "Python 3",
   "language": "python",
   "name": "python3"
  },
  "language_info": {
   "codemirror_mode": {
    "name": "ipython",
    "version": 3
   },
   "file_extension": ".py",
   "mimetype": "text/x-python",
   "name": "python",
   "nbconvert_exporter": "python",
   "pygments_lexer": "ipython3",
   "version": "3.8.10"
  },
  "orig_nbformat": 4
 },
 "nbformat": 4,
 "nbformat_minor": 2
}
