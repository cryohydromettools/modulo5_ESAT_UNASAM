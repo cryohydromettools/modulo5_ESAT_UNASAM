{
 "cells": [
  {
   "cell_type": "markdown",
   "metadata": {},
   "source": [
    "## Registrarse en CDS\n",
    "\n",
    "Si aún no estás registrado en el CDS, entrá [aquí](https://cds.climate.copernicus.eu/cdsapp#!/home) para registrarte. Es importante hacer este paso para descargar datos desde CDS!!!"
   ]
  },
  {
   "cell_type": "markdown",
   "metadata": {},
   "source": [
    "## Descargar ERA5 a través de la API de CDS"
   ]
  },
  {
   "cell_type": "markdown",
   "metadata": {},
   "source": [
    "### Instalar `cdsapi`\n",
    "\n",
    "Si aún no tiene instalado el módulo `cdsapi`, instale usando el siguiente comando en **anaconda prompt**:\n",
    "\n",
    "``` python\n",
    "\n",
    "conda install -c conda-forge cdsapi \n",
    "\n",
    "```\n",
    "Luego configure tu computadora con tu usuario y clave proporcionados por el **CDS**.\n",
    "> Deberás crear un archivo **.cdsapirc** en tu home y copiar tu usuario y clave. Sigue los pasos [aquí](https://cds.climate.copernicus.eu/api-how-to) para hacer esto."
   ]
  },
  {
   "cell_type": "code",
   "execution_count": 1,
   "metadata": {},
   "outputs": [
    {
     "name": "stdout",
     "output_type": "stream",
     "text": [
      "Collecting package metadata (current_repodata.json): done\n",
      "Solving environment: done\n",
      "\n",
      "\n",
      "==> WARNING: A newer version of conda exists. <==\n",
      "  current version: 4.12.0\n",
      "  latest version: 22.9.0\n",
      "\n",
      "Please update conda by running\n",
      "\n",
      "    $ conda update -n base -c defaults conda\n",
      "\n",
      "\n",
      "\n",
      "# All requested packages already installed.\n",
      "\n"
     ]
    }
   ],
   "source": [
    "# para instalar directamente las librerias podemos utilizar el siguiente comando\n",
    "# cuidado, no olvide colocar --yes porque sino veras un mensaje de instalacion que no podras responder\n",
    "#!conda install -c conda-forge cdsapi\n",
    "\n",
    "!conda install --yes -c conda-forge cdsapi"
   ]
  },
  {
   "cell_type": "code",
   "execution_count": 1,
   "metadata": {},
   "outputs": [
    {
     "name": "stdout",
     "output_type": "stream",
     "text": [
      "/home/christian/Documents/modulo5_ESAT_UNASAM/sabado\n"
     ]
    }
   ],
   "source": [
    "!pwd"
   ]
  },
  {
   "cell_type": "markdown",
   "metadata": {},
   "source": [
    "### Importar el modulo cdsapi"
   ]
  },
  {
   "cell_type": "code",
   "execution_count": 3,
   "metadata": {},
   "outputs": [
    {
     "name": "stderr",
     "output_type": "stream",
     "text": [
      "2022-10-31 13:55:37,489 INFO Welcome to the CDS\n",
      "2022-10-31 13:55:37,491 INFO Sending request to https://cds.climate.copernicus.eu/api/v2/resources/reanalysis-era5-single-levels-monthly-means\n",
      "2022-10-31 13:55:37,719 INFO Request is completed\n",
      "2022-10-31 13:55:37,721 INFO Downloading https://download-0020.copernicus-climate.eu/cache-compute-0020/cache/data2/adaptor.mars.internal-1666984288.006447-11904-7-77059a1f-702f-4b10-b6b7-0b12bf86c05f.nc to ../../data/test/era5_2020.nc (847.6K)\n",
      "2022-10-31 13:55:39,758 INFO Download rate 416.2K/s\n"
     ]
    },
    {
     "data": {
      "text/plain": [
       "Result(content_length=867904,content_type=application/x-netcdf,location=https://download-0020.copernicus-climate.eu/cache-compute-0020/cache/data2/adaptor.mars.internal-1666984288.006447-11904-7-77059a1f-702f-4b10-b6b7-0b12bf86c05f.nc)"
      ]
     },
     "execution_count": 3,
     "metadata": {},
     "output_type": "execute_result"
    }
   ],
   "source": [
    "import cdsapi\n",
    "\n",
    "c = cdsapi.Client()\n",
    "\n",
    "c.retrieve(\n",
    "    'reanalysis-era5-single-levels-monthly-means',\n",
    "    {\n",
    "        'format': 'netcdf',\n",
    "        'product_type': 'monthly_averaged_reanalysis',\n",
    "        'variable': ['geopotential', '10m_u_component_of_wind', '10m_v_component_of_wind',\n",
    "         '2m_temperature', 'total_precipitation',\n",
    "        ],\n",
    "        'year': '2020',\n",
    "        'month': [\n",
    "            '01', '02', '03',\n",
    "            '04', '05', '06',\n",
    "            '07', '08', '09',\n",
    "            '10', '11', '12',\n",
    "        ],\n",
    "        'time': '00:00',\n",
    "        'area': [ 2, -85, -20, -65,],\n",
    "    },\n",
    "    './data/test/era5_2020.nc')"
   ]
  },
  {
   "cell_type": "code",
   "execution_count": 4,
   "metadata": {},
   "outputs": [],
   "source": [
    "import numpy as np"
   ]
  },
  {
   "cell_type": "code",
   "execution_count": 5,
   "metadata": {},
   "outputs": [],
   "source": [
    "years = np.arange(1960, 2021, 1)"
   ]
  },
  {
   "cell_type": "code",
   "execution_count": 6,
   "metadata": {},
   "outputs": [
    {
     "name": "stdout",
     "output_type": "stream",
     "text": [
      "1960\n",
      "era5_1960.nc\n",
      "1961\n",
      "era5_1961.nc\n",
      "1962\n",
      "era5_1962.nc\n",
      "más años\n",
      "más años\n"
     ]
    }
   ],
   "source": [
    "for i in years[0:3]:\n",
    "    print(str(i))\n",
    "    print(f'era5_{str(i)}.nc')\n",
    "print('más años')\n",
    "print('más años')\n"
   ]
  },
  {
   "cell_type": "code",
   "execution_count": 2,
   "metadata": {},
   "outputs": [],
   "source": [
    "#for i in years:\n",
    "#    c.retrieve(\n",
    "#        'reanalysis-era5-single-levels-monthly-means',\n",
    "#        {\n",
    "#            'format': 'netcdf',\n",
    "#            'product_type': 'monthly_averaged_reanalysis',\n",
    "#            'variable': ['geopotential', '10m_u_component_of_wind', '10m_v_component_of_wind',\n",
    "#            '2m_temperature', 'total_precipitation',\n",
    "#            ],\n",
    "#            'year': str(i),\n",
    "#            'month': [\n",
    "#                '01', '02', '03',\n",
    "#                '04', '05', '06',\n",
    "#                '07', '08', '09',\n",
    "#                '10', '11', '12',\n",
    "#            ],\n",
    "#            'time': '00:00',\n",
    "#            'area': [ 2, -85, -20, -65,],\n",
    "#        },\n",
    "#        f'../../data/era5_{str(i)}.nc')"
   ]
  }
 ],
 "metadata": {
  "kernelspec": {
   "display_name": "Python 3.8.10 64-bit",
   "language": "python",
   "name": "python3"
  },
  "language_info": {
   "codemirror_mode": {
    "name": "ipython",
    "version": 3
   },
   "file_extension": ".py",
   "mimetype": "text/x-python",
   "name": "python",
   "nbconvert_exporter": "python",
   "pygments_lexer": "ipython3",
   "version": "3.9.13"
  },
  "orig_nbformat": 4,
  "vscode": {
   "interpreter": {
    "hash": "916dbcbb3f70747c44a77c7bcd40155683ae19c65e1c03b4aa3499c5328201f1"
   }
  }
 },
 "nbformat": 4,
 "nbformat_minor": 2
}
